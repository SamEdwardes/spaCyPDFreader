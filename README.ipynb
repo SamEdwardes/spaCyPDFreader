{
 "metadata": {
  "language_info": {
   "codemirror_mode": {
    "name": "ipython",
    "version": 3
   },
   "file_extension": ".py",
   "mimetype": "text/x-python",
   "name": "python",
   "nbconvert_exporter": "python",
   "pygments_lexer": "ipython3",
   "version": "3.9.4"
  },
  "orig_nbformat": 2,
  "kernelspec": {
   "name": "python394jvsc74a57bd0dd2d7414f7164001dd85e95ce60e49c86942591174b9dc329627aeb86bc0d7bf",
   "display_name": "Python 3.9.4 64-bit ('spacypdfreader-vjuT1pah-py3.9': poetry)"
  },
  "metadata": {
   "interpreter": {
    "hash": "aee8b7b246df8f9039afb4144a1f6fd8d2ca17a180786b69acc140d282b71a49"
   }
  }
 },
 "nbformat": 4,
 "nbformat_minor": 2,
 "cells": [
  {
   "source": [
    "# spaCyPDFreader\n",
    "\n",
    "Extract text from pdfs using spaCy and capture the page number as a spacy extension."
   ],
   "cell_type": "markdown",
   "metadata": {}
  },
  {
   "source": [
    "## Installation\n",
    "\n",
    "```bash\n",
    "pip install spacypdfreader\n",
    "```"
   ],
   "cell_type": "markdown",
   "metadata": {}
  },
  {
   "source": [
    "## Usage"
   ],
   "cell_type": "markdown",
   "metadata": {}
  },
  {
   "cell_type": "code",
   "execution_count": 1,
   "metadata": {},
   "outputs": [
    {
     "output_type": "display_data",
     "data": {
      "text/plain": "Extracting text from \u001b[1;36m4\u001b[0m pdf pages\u001b[33m...\u001b[0m\n",
      "text/html": "<pre style=\"white-space:pre;overflow-x:auto;line-height:normal;font-family:Menlo,'DejaVu Sans Mono',consolas,'Courier New',monospace\">Extracting text from <span style=\"color: #008080; text-decoration-color: #008080; font-weight: bold\">4</span> pdf pages<span style=\"color: #808000; text-decoration-color: #808000\">...</span>\n</pre>\n"
     },
     "metadata": {}
    },
    {
     "output_type": "stream",
     "name": "stderr",
     "text": [
      "100%|██████████| 4/4 [00:00<00:00,  5.97it/s]\n"
     ]
    }
   ],
   "source": [
    "import spacy\n",
    "from spacypdfreader import pdf_reader\n",
    "\n",
    "nlp = spacy.load(\"en_core_web_sm\")\n",
    "doc = pdf_reader(\"tests/data/test_pdf_01.pdf\", nlp)"
   ]
  },
  {
   "cell_type": "code",
   "execution_count": 2,
   "metadata": {},
   "outputs": [
    {
     "output_type": "execute_result",
     "data": {
      "text/plain": [
       "Test PDF 01\n",
       "\n",
       "This is a simple test pdf"
      ]
     },
     "metadata": {},
     "execution_count": 2
    }
   ],
   "source": [
    "doc[0:10]"
   ]
  },
  {
   "cell_type": "code",
   "execution_count": 3,
   "metadata": {},
   "outputs": [
    {
     "output_type": "stream",
     "name": "stdout",
     "text": [
      "Token: `Test`, page number  1\nToken: `PDF`, page number  1\nToken: `01`, page number  1\nToken: `\n\n`, page number  1\nToken: `This`, page number  1\nToken: `is`, page number  1\nToken: `a`, page number  1\nToken: `simple`, page number  1\nToken: `test`, page number  1\nToken: `pdf`, page number  1\n"
     ]
    }
   ],
   "source": [
    "for token in doc[0:10]:\n",
    "    print(f\"Token: `{token}`, page number  {token._.page_number}\")"
   ]
  },
  {
   "cell_type": "code",
   "execution_count": 4,
   "metadata": {},
   "outputs": [
    {
     "output_type": "execute_result",
     "data": {
      "text/plain": [
       "U3D or PRC and various other data formats.[15][16][17]\n",
       "\n"
      ]
     },
     "metadata": {},
     "execution_count": 4
    }
   ],
   "source": [
    "doc[-10:]"
   ]
  },
  {
   "cell_type": "code",
   "execution_count": 5,
   "metadata": {},
   "outputs": [
    {
     "output_type": "stream",
     "name": "stdout",
     "text": [
      "Token: `U3D`, page number  4\nToken: `or`, page number  4\nToken: `PRC`, page number  4\nToken: `and`, page number  4\nToken: `various`, page number  4\nToken: `other`, page number  4\nToken: `data`, page number  4\nToken: `formats.[15][16][17`, page number  4\nToken: `]`, page number  4\nToken: `\n\n\f`, page number  4\n"
     ]
    }
   ],
   "source": [
    "for token in doc[-10:]:\n",
    "    print(f\"Token: `{token}`, page number  {token._.page_number}\")"
   ]
  }
 ]
}